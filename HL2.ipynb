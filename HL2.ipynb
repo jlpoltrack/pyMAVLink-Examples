{
 "cells": [
  {
   "cell_type": "code",
   "execution_count": 1,
   "metadata": {},
   "outputs": [],
   "source": [
    "from pymavlink import mavutil\n",
    "import time\n",
    "\n",
    "link = mavutil.mavlink_connection('COM11', baud=19200)\n",
    "\n",
    "time.sleep(1)  #Give some time for serial to wake up\n",
    "\n",
    "# https://mavlink.io/en/messages/common.html#COMMAND_LONG\n",
    "# https://mavlink.io/en/messages/common.html#MAV_CMD_CONTROL_HIGH_LATENCY\n",
    "# Start the High Latency 2 message\n",
    "link.mav.command_long_send(1,0,mavutil.mavlink.MAV_CMD_CONTROL_HIGH_LATENCY,0,1,0,0,0,0,0,0)"
   ]
  },
  {
   "cell_type": "code",
   "execution_count": 2,
   "metadata": {},
   "outputs": [
    {
     "name": "stdout",
     "output_type": "stream",
     "text": [
      "Altitude: 0, Battery: 99\n",
      "Altitude: 0, Battery: 99\n",
      "Altitude: 0, Battery: 98\n",
      "Altitude: 0, Battery: 98\n",
      "Altitude: 0, Battery: 98\n",
      "Altitude: 0, Battery: 97\n",
      "Altitude: 0, Battery: 97\n",
      "Altitude: 0, Battery: 96\n"
     ]
    },
    {
     "ename": "KeyboardInterrupt",
     "evalue": "",
     "output_type": "error",
     "traceback": [
      "\u001b[1;31m---------------------------------------------------------------------------\u001b[0m",
      "\u001b[1;31mKeyboardInterrupt\u001b[0m                         Traceback (most recent call last)",
      "Cell \u001b[1;32mIn[2], line 3\u001b[0m\n\u001b[0;32m      1\u001b[0m \u001b[39m# Receive the message, parse and log it to a file\u001b[39;00m\n\u001b[0;32m      2\u001b[0m \u001b[39mwhile\u001b[39;00m \u001b[39m1\u001b[39m:\n\u001b[1;32m----> 3\u001b[0m     msg \u001b[39m=\u001b[39m link\u001b[39m.\u001b[39;49mrecv_match(\u001b[39mtype\u001b[39;49m\u001b[39m=\u001b[39;49m\u001b[39m'\u001b[39;49m\u001b[39mHIGH_LATENCY2\u001b[39;49m\u001b[39m'\u001b[39;49m,blocking\u001b[39m=\u001b[39;49m\u001b[39mTrue\u001b[39;49;00m)\n\u001b[0;32m      4\u001b[0m     \u001b[39mif\u001b[39;00m \u001b[39mnot\u001b[39;00m msg:\n\u001b[0;32m      5\u001b[0m         \u001b[39mbreak\u001b[39;00m\n",
      "File \u001b[1;32mc:\\Users\\jlp\\AppData\\Local\\Programs\\Python\\Python311\\Lib\\site-packages\\pymavlink\\mavutil.py:508\u001b[0m, in \u001b[0;36mmavfile.recv_match\u001b[1;34m(self, condition, type, blocking, timeout)\u001b[0m\n\u001b[0;32m    506\u001b[0m     hook(\u001b[39mself\u001b[39m)\n\u001b[0;32m    507\u001b[0m \u001b[39mif\u001b[39;00m timeout \u001b[39mis\u001b[39;00m \u001b[39mNone\u001b[39;00m:\n\u001b[1;32m--> 508\u001b[0m     \u001b[39mself\u001b[39;49m\u001b[39m.\u001b[39;49mselect(\u001b[39m0.05\u001b[39;49m)\n\u001b[0;32m    509\u001b[0m \u001b[39melse\u001b[39;00m:\n\u001b[0;32m    510\u001b[0m     \u001b[39mself\u001b[39m\u001b[39m.\u001b[39mselect(timeout\u001b[39m/\u001b[39m\u001b[39m2\u001b[39m)\n",
      "File \u001b[1;32mc:\\Users\\jlp\\AppData\\Local\\Programs\\Python\\Python311\\Lib\\site-packages\\pymavlink\\mavutil.py:323\u001b[0m, in \u001b[0;36mmavfile.select\u001b[1;34m(self, timeout)\u001b[0m\n\u001b[0;32m    321\u001b[0m \u001b[39m\u001b[39m\u001b[39m'''wait for up to timeout seconds for more data'''\u001b[39;00m\n\u001b[0;32m    322\u001b[0m \u001b[39mif\u001b[39;00m \u001b[39mself\u001b[39m\u001b[39m.\u001b[39mfd \u001b[39mis\u001b[39;00m \u001b[39mNone\u001b[39;00m:\n\u001b[1;32m--> 323\u001b[0m     time\u001b[39m.\u001b[39msleep(\u001b[39mmin\u001b[39m(timeout,\u001b[39m0.5\u001b[39m))\n\u001b[0;32m    324\u001b[0m     \u001b[39mreturn\u001b[39;00m \u001b[39mTrue\u001b[39;00m\n\u001b[0;32m    325\u001b[0m \u001b[39mtry\u001b[39;00m:\n",
      "\u001b[1;31mKeyboardInterrupt\u001b[0m: "
     ]
    }
   ],
   "source": [
    "# Receive the message, parse and log it to a file\n",
    "while 1:\n",
    "    msg = link.recv_match(type='HIGH_LATENCY2',blocking=True)\n",
    "    if not msg:\n",
    "        break\n",
    "    if msg.get_type() == \"BAD_DATA\":\n",
    "        if mavutil.all_printable(msg.data):\n",
    "            sys.stdout.write(msg.data)\n",
    "            sys.stdout.flush()\n",
    "    else:\n",
    "        print(f'Altitude: {msg.altitude}, Battery: {msg.battery}')\n",
    "        msgJSON = msg.to_json()\n",
    "\n",
    "        f = open(\"hl_log.txt\", \"a\")\n",
    "        f.write(msgJSON)\n",
    "        f.write('\\n')\n",
    "        f.close()"
   ]
  },
  {
   "cell_type": "code",
   "execution_count": null,
   "metadata": {},
   "outputs": [],
   "source": [
    "# Analysis of the file\n",
    "import json\n",
    "\n",
    "data = []\n",
    "with open('hl_log.txt') as f:\n",
    "    for line in f:\n",
    "        data.append(json.loads(line))\n",
    "\n",
    "import pandas as pd\n",
    "\n",
    "df = pd.DataFrame.from_records(data)"
   ]
  },
  {
   "cell_type": "code",
   "execution_count": null,
   "metadata": {},
   "outputs": [],
   "source": [
    "msg.types()"
   ]
  },
  {
   "cell_type": "code",
   "execution_count": 3,
   "metadata": {},
   "outputs": [],
   "source": [
    "# Set the Flight Mode, refer to \"Flight Modes.txt\" for the mapping\n",
    "link.mav.command_long_send(1,0,mavutil.mavlink.MAV_CMD_DO_SET_MODE,0,1,5,0,0,0,0,0)\n",
    "time.sleep(1)\n",
    "link.mav.command_long_send(1,0,mavutil.mavlink.MAV_CMD_CONTROL_HIGH_LATENCY,0,0,0,0,0,0,0,0)\n",
    "time.sleep(1)\n",
    "link.mav.command_long_send(1,0,mavutil.mavlink.MAV_CMD_CONTROL_HIGH_LATENCY,0,1,0,0,0,0,0,0)"
   ]
  },
  {
   "cell_type": "code",
   "execution_count": null,
   "metadata": {},
   "outputs": [],
   "source": []
  }
 ],
 "metadata": {
  "kernelspec": {
   "display_name": "Python 3",
   "language": "python",
   "name": "python3"
  },
  "language_info": {
   "codemirror_mode": {
    "name": "ipython",
    "version": 3
   },
   "file_extension": ".py",
   "mimetype": "text/x-python",
   "name": "python",
   "nbconvert_exporter": "python",
   "pygments_lexer": "ipython3",
   "version": "3.11.1"
  },
  "orig_nbformat": 4,
  "vscode": {
   "interpreter": {
    "hash": "bb4938f9b3dc4a03e5431cf1dbd80ab81518b5c11eae5b0193b1f5519ecd5658"
   }
  }
 },
 "nbformat": 4,
 "nbformat_minor": 2
}
