{
 "cells": [
  {
   "cell_type": "code",
   "execution_count": null,
   "metadata": {},
   "outputs": [],
   "source": [
    "from pymavlink import mavutil\n",
    "import time\n",
    "\n",
    "link = mavutil.mavlink_connection('COM11', baud=19200)\n",
    "\n",
    "time.sleep(1)  #Give some time for serial to wake up\n",
    "\n",
    "# https://mavlink.io/en/messages/common.html#COMMAND_LONG\n",
    "# https://mavlink.io/en/messages/common.html#MAV_CMD_CONTROL_HIGH_LATENCY\n",
    "# Start the High Latency 2 message\n",
    "link.mav.command_long_send(1,0,mavutil.mavlink.MAV_CMD_CONTROL_HIGH_LATENCY,0,1,0,0,0,0,0,0)"
   ]
  },
  {
   "cell_type": "code",
   "execution_count": null,
   "metadata": {},
   "outputs": [],
   "source": [
    "# Receive the message, parse and log it to a file\n",
    "while 1:\n",
    "    msg = link.recv_match(type='HIGH_LATENCY2',blocking=True)\n",
    "    if not msg:\n",
    "        break\n",
    "    if msg.get_type() == \"BAD_DATA\":\n",
    "        if mavutil.all_printable(msg.data):\n",
    "            sys.stdout.write(msg.data)\n",
    "            sys.stdout.flush()\n",
    "    else:\n",
    "        print(f'Altitude: {msg.altitude}, Battery: {msg.battery}')\n",
    "        msgJSON = msg.to_json()\n",
    "\n",
    "        f = open(\"hl_log.txt\", \"a\")\n",
    "        f.write(msgJSON)\n",
    "        f.write('\\n')\n",
    "        f.close()"
   ]
  },
  {
   "cell_type": "code",
   "execution_count": null,
   "metadata": {},
   "outputs": [],
   "source": [
    "# Analysis of the file\n",
    "import json\n",
    "\n",
    "data = []\n",
    "with open('hl_log.txt') as f:\n",
    "    for line in f:\n",
    "        data.append(json.loads(line))\n",
    "\n",
    "import pandas as pd\n",
    "\n",
    "df = pd.DataFrame.from_records(data)"
   ]
  }
 ],
 "metadata": {
  "kernelspec": {
   "display_name": "Python 3",
   "language": "python",
   "name": "python3"
  },
  "language_info": {
   "codemirror_mode": {
    "name": "ipython",
    "version": 3
   },
   "file_extension": ".py",
   "mimetype": "text/x-python",
   "name": "python",
   "nbconvert_exporter": "python",
   "pygments_lexer": "ipython3",
   "version": "3.11.1"
  },
  "orig_nbformat": 4,
  "vscode": {
   "interpreter": {
    "hash": "bb4938f9b3dc4a03e5431cf1dbd80ab81518b5c11eae5b0193b1f5519ecd5658"
   }
  }
 },
 "nbformat": 4,
 "nbformat_minor": 2
}
